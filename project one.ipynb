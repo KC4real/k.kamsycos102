{
 "cells": [
  {
   "cell_type": "code",
   "execution_count": null,
   "id": "0d231ef2-5337-402a-b6c0-4a72cc0356a4",
   "metadata": {},
   "outputs": [
    {
     "name": "stdin",
     "output_type": "stream",
     "text": [
      "ENTER THE PRINCIPLE:   111\n",
      "ENTER THE RATE:   1\n",
      "ENTER THE TIME:   4\n"
     ]
    },
    {
     "name": "stdout",
     "output_type": "stream",
     "text": [
      "THE SIMPLE INTEREST IS:  115.44\n"
     ]
    }
   ],
   "source": [
    "P = input(\"ENTER THE PRINCIPLE:  \")\n",
    "R = input(\"ENTER THE RATE:  \")\n",
    "T = input(\"ENTER THE TIME:  \")\n",
    "\n",
    "PI = int(P)\n",
    "RI = int(R)\n",
    "TI = int(T)\n",
    "\n",
    "RR = RI / 100\n",
    "RT = RR * TI\n",
    "B = RT + 1\n",
    "A = B * PI\n",
    "\n",
    "print(\"THE SIMPLE INTEREST IS: \",A)\n",
    "\n",
    "\n",
    "\n",
    "\n",
    "\n",
    "\n",
    "\n",
    "P = input(\"ENTER THE PRINCIPLE:  \")\n",
    "R = input(\"ENTER THE RATE:  \")\n",
    "T = input(\"ENTER THE TIME:  \")\n",
    "N = input(\"ENTER THE NUMBER OF YEARS:  \")\n",
    "\n",
    "PI = int(P)\n",
    "RI = int(R)\n",
    "TI = int(T)\n",
    "NI = int(N)\n",
    "\n",
    "RN = RI / NI\n",
    "B = 1 + RN\n",
    "NT = NI * TI\n",
    "BE = B**NT\n",
    "PB = PI * BE\n",
    "print(\"THE COMPOUND INTEREST IS:\",PB)\n",
    "\n",
    "\n",
    "\n",
    "\n",
    "\n",
    "P = input(\"ENTER THE PRINCIPLE:  \")\n",
    "R = input(\"ENTER THE RATE:  \")\n",
    "T = input(\"ENTER THE TIME:  \")\n",
    "N = input(\"ENTER THE NUMBER OF YEARS:  \")\n",
    "PMT = input(\"ENTER THE ANNUITY PAYMENT:  \")\n",
    "\n",
    "PI = int(P)\n",
    "RI = int(R)\n",
    "TI = int(T)\n",
    "NI = int(N)\n",
    "PT = int(PMT)\n",
    "\n",
    "RN = RI / NI\n",
    "B = 1 + RN\n",
    "NT = NI * TI\n",
    "BE = B**NT\n",
    "BN = BE - 1\n",
    "FR = BN / RN\n",
    "A = PT * FR\n",
    "\n",
    "print(\":THE ANNUITY PLAN IS:  \",A)"
   ]
  },
  {
   "cell_type": "code",
   "execution_count": null,
   "id": "058f36b3-11f9-45f8-99fe-20fbec260110",
   "metadata": {},
   "outputs": [],
   "source": []
  }
 ],
 "metadata": {
  "kernelspec": {
   "display_name": "Python 3 (ipykernel)",
   "language": "python",
   "name": "python3"
  },
  "language_info": {
   "codemirror_mode": {
    "name": "ipython",
    "version": 3
   },
   "file_extension": ".py",
   "mimetype": "text/x-python",
   "name": "python",
   "nbconvert_exporter": "python",
   "pygments_lexer": "ipython3",
   "version": "3.11.7"
  }
 },
 "nbformat": 4,
 "nbformat_minor": 5
}
