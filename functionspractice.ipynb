{
 "cells": [
  {
   "cell_type": "code",
   "execution_count": null,
   "id": "96746cd7-2d41-4304-81ba-6e37dac1e75d",
   "metadata": {},
   "outputs": [],
   "source": [
    "def printme (qwe):\n",
    "    print(qwe)\n",
    "    return;\n",
    "\n",
    "qwe = \"wertyi\"\n",
    "printme(qwe)\n",
    "\n",
    "def cust(inp):\n",
    "    print(inp);\n",
    "    return;\n",
    "\n",
    "inp = input(\"enter string: \")\n",
    "cust(inp)"
   ]
  },
  {
   "cell_type": "code",
   "execution_count": 2,
   "id": "04e7fe04-67f1-48d6-b226-8c4f9a65d2f6",
   "metadata": {},
   "outputs": [
    {
     "name": "stdout",
     "output_type": "stream",
     "text": [
      "[10, 20, 30, 40, [1, 2, 3, 4]]\n"
     ]
    }
   ],
   "source": [
    "def changeme(mylist):\n",
    "    mylist.append([1,2,3,4])\n",
    "    return\n",
    "\n",
    "mylist = [10,20,30,40]\n",
    "changeme(mylist)\n",
    "print(mylist)"
   ]
  },
  {
   "cell_type": "code",
   "execution_count": 4,
   "id": "4c243967-ecfb-4e1f-b52d-4b313b15bccb",
   "metadata": {},
   "outputs": [
    {
     "name": "stdout",
     "output_type": "stream",
     "text": [
      "inside [1, 2, 3, 4]\n",
      "outside [10, 20, 30, 40]\n"
     ]
    }
   ],
   "source": [
    "def changeme(mylist):\n",
    "    mylist = ([1,2,3,4])\n",
    "    print(\"inside\",mylist)\n",
    "    return\n",
    "\n",
    "mylist = [10,20,30,40]\n",
    "changeme(mylist)\n",
    "print(\"outside\",mylist)"
   ]
  },
  {
   "cell_type": "code",
   "execution_count": null,
   "id": "78574239-a6e4-480c-ad24-f9cea91aa580",
   "metadata": {},
   "outputs": [],
   "source": [
    "def printme(str):\n",
    "    print(str);\n",
    "    return;\n",
    "\n",
    "printme()"
   ]
  },
  {
   "cell_type": "code",
   "execution_count": 5,
   "id": "2071b38b-a2f7-4f9f-a7b1-59ed946cd2fe",
   "metadata": {},
   "outputs": [
    {
     "name": "stdout",
     "output_type": "stream",
     "text": [
      "grah\n"
     ]
    }
   ],
   "source": [
    "def printme(str):\n",
    "    print(str);\n",
    "    return;\n",
    "\n",
    "printme(str = \"grah\")"
   ]
  },
  {
   "cell_type": "code",
   "execution_count": 6,
   "id": "8914172a-397f-49b0-afc9-917614c1eac7",
   "metadata": {},
   "outputs": [
    {
     "name": "stdout",
     "output_type": "stream",
     "text": [
      "NAME:  misha\n",
      "AGE:  45\n"
     ]
    }
   ],
   "source": [
    "def printinfo(name, age):\n",
    "    print(\"NAME: \",name)\n",
    "    print(\"AGE: \",age)\n",
    "    return\n",
    "\n",
    "printinfo(name = \"misha\",age = 45)\n",
    "    "
   ]
  },
  {
   "cell_type": "code",
   "execution_count": 9,
   "id": "5978956d-da2b-49db-9b49-86c35d46262b",
   "metadata": {},
   "outputs": [
    {
     "name": "stdout",
     "output_type": "stream",
     "text": [
      "NAME:  misha\n",
      "AGE:  45\n",
      "NAME:  mhykailo\n",
      "AGE:  70\n"
     ]
    }
   ],
   "source": [
    "def printinfo(name, age = 70):\n",
    "    print(\"NAME: \",name)\n",
    "    print(\"AGE: \",age)\n",
    "    return\n",
    "\n",
    "printinfo(name = \"misha\",age = 45)\n",
    "printinfo(name = \"mhykailo\")"
   ]
  },
  {
   "cell_type": "code",
   "execution_count": 17,
   "id": "c54f8f29-4781-4407-997e-aaa93d80b099",
   "metadata": {},
   "outputs": [
    {
     "name": "stdout",
     "output_type": "stream",
     "text": [
      "output is: \n",
      "10\n",
      "output is: \n",
      "33\n",
      "44\n"
     ]
    }
   ],
   "source": [
    "def printinfo(arg1, *vartuple):\n",
    "    print(\"output is: \")\n",
    "    print(arg1)\n",
    "    for var in vartuple:\n",
    "        print(var)\n",
    "        return;\n",
    "\n",
    "printinfo(10);\n",
    "printinfo(33,44,55)"
   ]
  },
  {
   "cell_type": "code",
   "execution_count": 19,
   "id": "50ebb0f4-62a4-4cd9-a328-5768390c66b6",
   "metadata": {},
   "outputs": [
    {
     "name": "stdout",
     "output_type": "stream",
     "text": [
      "inside the function total 30\n",
      "outside the function 50\n"
     ]
    }
   ],
   "source": [
    "total = 50\n",
    "def sum(arg1,arg2):\n",
    "    total = arg1 + arg2;\n",
    "    print(\"inside the function total\",total);\n",
    "    return total;\n",
    "\n",
    "sum(10,20);\n",
    "\n",
    "print(\"outside the function\",total)"
   ]
  },
  {
   "cell_type": "code",
   "execution_count": 21,
   "id": "b030cec5-27bf-479f-818f-4f58e107e1ce",
   "metadata": {},
   "outputs": [
    {
     "name": "stdout",
     "output_type": "stream",
     "text": [
      "lawal chris james jesse\n"
     ]
    }
   ],
   "source": [
    "def swap(x,y):\n",
    "    global a\n",
    "    a = \"lawal\"\n",
    "    x,y = y,x\n",
    "    b = \"chris\"\n",
    "    print(a,b,x,y)\n",
    "\n",
    "swap(\"jesse\",\"james\")"
   ]
  },
  {
   "cell_type": "code",
   "execution_count": null,
   "id": "ce827ee7-1bdc-42cb-bf25-b71883785554",
   "metadata": {},
   "outputs": [],
   "source": []
  }
 ],
 "metadata": {
  "kernelspec": {
   "display_name": "Python 3 (ipykernel)",
   "language": "python",
   "name": "python3"
  },
  "language_info": {
   "codemirror_mode": {
    "name": "ipython",
    "version": 3
   },
   "file_extension": ".py",
   "mimetype": "text/x-python",
   "name": "python",
   "nbconvert_exporter": "python",
   "pygments_lexer": "ipython3",
   "version": "3.11.7"
  }
 },
 "nbformat": 4,
 "nbformat_minor": 5
}
